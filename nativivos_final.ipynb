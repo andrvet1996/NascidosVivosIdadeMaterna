{
  "nbformat": 4,
  "nbformat_minor": 0,
  "metadata": {
    "colab": {
      "provenance": [],
      "authorship_tag": "ABX9TyN+xlnM11DKuM8lcwbxR/pL",
      "include_colab_link": true
    },
    "kernelspec": {
      "name": "ir",
      "display_name": "R"
    },
    "language_info": {
      "name": "R"
    }
  },
  "cells": [
    {
      "cell_type": "markdown",
      "metadata": {
        "id": "view-in-github",
        "colab_type": "text"
      },
      "source": [
        "<a href=\"https://colab.research.google.com/github/andrvet1996/NascidosVivosIdadeMaterna/blob/main/nativivos_final.ipynb\" target=\"_parent\"><img src=\"https://colab.research.google.com/assets/colab-badge.svg\" alt=\"Open In Colab\"/></a>"
      ]
    },
    {
      "cell_type": "markdown",
      "source": [
        "1) LEITURA DA BASE DE DADOS\n",
        "\n",
        "int = inteiro\n",
        "chr = caracter"
      ],
      "metadata": {
        "id": "oET7G2tqVhav"
      }
    },
    {
      "cell_type": "code",
      "execution_count": null,
      "metadata": {
        "id": "joJnwJ9HRrrF",
        "colab": {
          "base_uri": "https://localhost:8080/",
          "height": 1000
        },
        "outputId": "4e901456-a379-42ac-b64e-dc0b911ce760"
      },
      "outputs": [
        {
          "output_type": "display_data",
          "data": {
            "text/html": [
              "<table class=\"dataframe\">\n",
              "<caption>A data.frame: 2584 × 3</caption>\n",
              "<thead>\n",
              "\t<tr><th scope=col>cidade</th><th scope=col>idade</th><th scope=col>vivos</th></tr>\n",
              "\t<tr><th scope=col>&lt;int&gt;</th><th scope=col>&lt;chr&gt;</th><th scope=col>&lt;int&gt;</th></tr>\n",
              "</thead>\n",
              "<tbody>\n",
              "\t<tr><td>3500000</td><td>Menos 20</td><td> 0</td></tr>\n",
              "\t<tr><td>3500105</td><td>Menos 20</td><td>14</td></tr>\n",
              "\t<tr><td>3500204</td><td>Menos 20</td><td> 1</td></tr>\n",
              "\t<tr><td>3500303</td><td>Menos 20</td><td>18</td></tr>\n",
              "\t<tr><td>3500402</td><td>Menos 20</td><td> 2</td></tr>\n",
              "\t<tr><td>3500501</td><td>Menos 20</td><td> 9</td></tr>\n",
              "\t<tr><td>3500550</td><td>Menos 20</td><td> 5</td></tr>\n",
              "\t<tr><td>3500600</td><td>Menos 20</td><td> 2</td></tr>\n",
              "\t<tr><td>3500709</td><td>Menos 20</td><td>18</td></tr>\n",
              "\t<tr><td>3500758</td><td>Menos 20</td><td> 4</td></tr>\n",
              "\t<tr><td>3500808</td><td>Menos 20</td><td> 0</td></tr>\n",
              "\t<tr><td>3500907</td><td>Menos 20</td><td> 0</td></tr>\n",
              "\t<tr><td>3501004</td><td>Menos 20</td><td> 4</td></tr>\n",
              "\t<tr><td>3501103</td><td>Menos 20</td><td> 2</td></tr>\n",
              "\t<tr><td>3501152</td><td>Menos 20</td><td> 8</td></tr>\n",
              "\t<tr><td>3501202</td><td>Menos 20</td><td> 1</td></tr>\n",
              "\t<tr><td>3501301</td><td>Menos 20</td><td>13</td></tr>\n",
              "\t<tr><td>3501400</td><td>Menos 20</td><td> 0</td></tr>\n",
              "\t<tr><td>3501509</td><td>Menos 20</td><td> 0</td></tr>\n",
              "\t<tr><td>3501608</td><td>Menos 20</td><td>55</td></tr>\n",
              "\t<tr><td>3501707</td><td>Menos 20</td><td>14</td></tr>\n",
              "\t<tr><td>3501806</td><td>Menos 20</td><td> 0</td></tr>\n",
              "\t<tr><td>3501905</td><td>Menos 20</td><td>21</td></tr>\n",
              "\t<tr><td>3502002</td><td>Menos 20</td><td> 1</td></tr>\n",
              "\t<tr><td>3502101</td><td>Menos 20</td><td>26</td></tr>\n",
              "\t<tr><td>3502200</td><td>Menos 20</td><td>15</td></tr>\n",
              "\t<tr><td>3502309</td><td>Menos 20</td><td> 5</td></tr>\n",
              "\t<tr><td>3502408</td><td>Menos 20</td><td> 2</td></tr>\n",
              "\t<tr><td>3502507</td><td>Menos 20</td><td>14</td></tr>\n",
              "\t<tr><td>3502606</td><td>Menos 20</td><td> 2</td></tr>\n",
              "\t<tr><td>⋮</td><td>⋮</td><td>⋮</td></tr>\n",
              "\t<tr><td>3554953</td><td>40 a 49</td><td> 2</td></tr>\n",
              "\t<tr><td>3555000</td><td>40 a 49</td><td> 2</td></tr>\n",
              "\t<tr><td>3555109</td><td>40 a 49</td><td> 3</td></tr>\n",
              "\t<tr><td>3555208</td><td>40 a 49</td><td> 0</td></tr>\n",
              "\t<tr><td>3555307</td><td>40 a 49</td><td> 0</td></tr>\n",
              "\t<tr><td>3555356</td><td>40 a 49</td><td> 0</td></tr>\n",
              "\t<tr><td>3555406</td><td>40 a 49</td><td>14</td></tr>\n",
              "\t<tr><td>3555505</td><td>40 a 49</td><td> 1</td></tr>\n",
              "\t<tr><td>3555604</td><td>40 a 49</td><td> 0</td></tr>\n",
              "\t<tr><td>3555703</td><td>40 a 49</td><td> 1</td></tr>\n",
              "\t<tr><td>3555802</td><td>40 a 49</td><td> 2</td></tr>\n",
              "\t<tr><td>3555901</td><td>40 a 49</td><td> 1</td></tr>\n",
              "\t<tr><td>3556008</td><td>40 a 49</td><td> 0</td></tr>\n",
              "\t<tr><td>3556107</td><td>40 a 49</td><td> 0</td></tr>\n",
              "\t<tr><td>3556206</td><td>40 a 49</td><td>19</td></tr>\n",
              "\t<tr><td>3556305</td><td>40 a 49</td><td> 0</td></tr>\n",
              "\t<tr><td>3556354</td><td>40 a 49</td><td> 1</td></tr>\n",
              "\t<tr><td>3556404</td><td>40 a 49</td><td> 4</td></tr>\n",
              "\t<tr><td>3556453</td><td>40 a 49</td><td>15</td></tr>\n",
              "\t<tr><td>3556503</td><td>40 a 49</td><td>14</td></tr>\n",
              "\t<tr><td>3556602</td><td>40 a 49</td><td> 0</td></tr>\n",
              "\t<tr><td>3556701</td><td>40 a 49</td><td>15</td></tr>\n",
              "\t<tr><td>3556800</td><td>40 a 49</td><td> 2</td></tr>\n",
              "\t<tr><td>3556909</td><td>40 a 49</td><td> 1</td></tr>\n",
              "\t<tr><td>3556958</td><td>40 a 49</td><td> 0</td></tr>\n",
              "\t<tr><td>3557006</td><td>40 a 49</td><td>16</td></tr>\n",
              "\t<tr><td>3557105</td><td>40 a 49</td><td>11</td></tr>\n",
              "\t<tr><td>3557154</td><td>40 a 49</td><td> 1</td></tr>\n",
              "\t<tr><td>3557204</td><td>40 a 49</td><td> 1</td></tr>\n",
              "\t<tr><td>3557303</td><td>40 a 49</td><td> 2</td></tr>\n",
              "</tbody>\n",
              "</table>\n"
            ],
            "text/markdown": "\nA data.frame: 2584 × 3\n\n| cidade &lt;int&gt; | idade &lt;chr&gt; | vivos &lt;int&gt; |\n|---|---|---|\n| 3500000 | Menos 20 |  0 |\n| 3500105 | Menos 20 | 14 |\n| 3500204 | Menos 20 |  1 |\n| 3500303 | Menos 20 | 18 |\n| 3500402 | Menos 20 |  2 |\n| 3500501 | Menos 20 |  9 |\n| 3500550 | Menos 20 |  5 |\n| 3500600 | Menos 20 |  2 |\n| 3500709 | Menos 20 | 18 |\n| 3500758 | Menos 20 |  4 |\n| 3500808 | Menos 20 |  0 |\n| 3500907 | Menos 20 |  0 |\n| 3501004 | Menos 20 |  4 |\n| 3501103 | Menos 20 |  2 |\n| 3501152 | Menos 20 |  8 |\n| 3501202 | Menos 20 |  1 |\n| 3501301 | Menos 20 | 13 |\n| 3501400 | Menos 20 |  0 |\n| 3501509 | Menos 20 |  0 |\n| 3501608 | Menos 20 | 55 |\n| 3501707 | Menos 20 | 14 |\n| 3501806 | Menos 20 |  0 |\n| 3501905 | Menos 20 | 21 |\n| 3502002 | Menos 20 |  1 |\n| 3502101 | Menos 20 | 26 |\n| 3502200 | Menos 20 | 15 |\n| 3502309 | Menos 20 |  5 |\n| 3502408 | Menos 20 |  2 |\n| 3502507 | Menos 20 | 14 |\n| 3502606 | Menos 20 |  2 |\n| ⋮ | ⋮ | ⋮ |\n| 3554953 | 40 a 49 |  2 |\n| 3555000 | 40 a 49 |  2 |\n| 3555109 | 40 a 49 |  3 |\n| 3555208 | 40 a 49 |  0 |\n| 3555307 | 40 a 49 |  0 |\n| 3555356 | 40 a 49 |  0 |\n| 3555406 | 40 a 49 | 14 |\n| 3555505 | 40 a 49 |  1 |\n| 3555604 | 40 a 49 |  0 |\n| 3555703 | 40 a 49 |  1 |\n| 3555802 | 40 a 49 |  2 |\n| 3555901 | 40 a 49 |  1 |\n| 3556008 | 40 a 49 |  0 |\n| 3556107 | 40 a 49 |  0 |\n| 3556206 | 40 a 49 | 19 |\n| 3556305 | 40 a 49 |  0 |\n| 3556354 | 40 a 49 |  1 |\n| 3556404 | 40 a 49 |  4 |\n| 3556453 | 40 a 49 | 15 |\n| 3556503 | 40 a 49 | 14 |\n| 3556602 | 40 a 49 |  0 |\n| 3556701 | 40 a 49 | 15 |\n| 3556800 | 40 a 49 |  2 |\n| 3556909 | 40 a 49 |  1 |\n| 3556958 | 40 a 49 |  0 |\n| 3557006 | 40 a 49 | 16 |\n| 3557105 | 40 a 49 | 11 |\n| 3557154 | 40 a 49 |  1 |\n| 3557204 | 40 a 49 |  1 |\n| 3557303 | 40 a 49 |  2 |\n\n",
            "text/latex": "A data.frame: 2584 × 3\n\\begin{tabular}{lll}\n cidade & idade & vivos\\\\\n <int> & <chr> & <int>\\\\\n\\hline\n\t 3500000 & Menos 20 &  0\\\\\n\t 3500105 & Menos 20 & 14\\\\\n\t 3500204 & Menos 20 &  1\\\\\n\t 3500303 & Menos 20 & 18\\\\\n\t 3500402 & Menos 20 &  2\\\\\n\t 3500501 & Menos 20 &  9\\\\\n\t 3500550 & Menos 20 &  5\\\\\n\t 3500600 & Menos 20 &  2\\\\\n\t 3500709 & Menos 20 & 18\\\\\n\t 3500758 & Menos 20 &  4\\\\\n\t 3500808 & Menos 20 &  0\\\\\n\t 3500907 & Menos 20 &  0\\\\\n\t 3501004 & Menos 20 &  4\\\\\n\t 3501103 & Menos 20 &  2\\\\\n\t 3501152 & Menos 20 &  8\\\\\n\t 3501202 & Menos 20 &  1\\\\\n\t 3501301 & Menos 20 & 13\\\\\n\t 3501400 & Menos 20 &  0\\\\\n\t 3501509 & Menos 20 &  0\\\\\n\t 3501608 & Menos 20 & 55\\\\\n\t 3501707 & Menos 20 & 14\\\\\n\t 3501806 & Menos 20 &  0\\\\\n\t 3501905 & Menos 20 & 21\\\\\n\t 3502002 & Menos 20 &  1\\\\\n\t 3502101 & Menos 20 & 26\\\\\n\t 3502200 & Menos 20 & 15\\\\\n\t 3502309 & Menos 20 &  5\\\\\n\t 3502408 & Menos 20 &  2\\\\\n\t 3502507 & Menos 20 & 14\\\\\n\t 3502606 & Menos 20 &  2\\\\\n\t ⋮ & ⋮ & ⋮\\\\\n\t 3554953 & 40 a 49 &  2\\\\\n\t 3555000 & 40 a 49 &  2\\\\\n\t 3555109 & 40 a 49 &  3\\\\\n\t 3555208 & 40 a 49 &  0\\\\\n\t 3555307 & 40 a 49 &  0\\\\\n\t 3555356 & 40 a 49 &  0\\\\\n\t 3555406 & 40 a 49 & 14\\\\\n\t 3555505 & 40 a 49 &  1\\\\\n\t 3555604 & 40 a 49 &  0\\\\\n\t 3555703 & 40 a 49 &  1\\\\\n\t 3555802 & 40 a 49 &  2\\\\\n\t 3555901 & 40 a 49 &  1\\\\\n\t 3556008 & 40 a 49 &  0\\\\\n\t 3556107 & 40 a 49 &  0\\\\\n\t 3556206 & 40 a 49 & 19\\\\\n\t 3556305 & 40 a 49 &  0\\\\\n\t 3556354 & 40 a 49 &  1\\\\\n\t 3556404 & 40 a 49 &  4\\\\\n\t 3556453 & 40 a 49 & 15\\\\\n\t 3556503 & 40 a 49 & 14\\\\\n\t 3556602 & 40 a 49 &  0\\\\\n\t 3556701 & 40 a 49 & 15\\\\\n\t 3556800 & 40 a 49 &  2\\\\\n\t 3556909 & 40 a 49 &  1\\\\\n\t 3556958 & 40 a 49 &  0\\\\\n\t 3557006 & 40 a 49 & 16\\\\\n\t 3557105 & 40 a 49 & 11\\\\\n\t 3557154 & 40 a 49 &  1\\\\\n\t 3557204 & 40 a 49 &  1\\\\\n\t 3557303 & 40 a 49 &  2\\\\\n\\end{tabular}\n",
            "text/plain": [
              "     cidade  idade    vivos\n",
              "1    3500000 Menos 20  0   \n",
              "2    3500105 Menos 20 14   \n",
              "3    3500204 Menos 20  1   \n",
              "4    3500303 Menos 20 18   \n",
              "5    3500402 Menos 20  2   \n",
              "6    3500501 Menos 20  9   \n",
              "7    3500550 Menos 20  5   \n",
              "8    3500600 Menos 20  2   \n",
              "9    3500709 Menos 20 18   \n",
              "10   3500758 Menos 20  4   \n",
              "11   3500808 Menos 20  0   \n",
              "12   3500907 Menos 20  0   \n",
              "13   3501004 Menos 20  4   \n",
              "14   3501103 Menos 20  2   \n",
              "15   3501152 Menos 20  8   \n",
              "16   3501202 Menos 20  1   \n",
              "17   3501301 Menos 20 13   \n",
              "18   3501400 Menos 20  0   \n",
              "19   3501509 Menos 20  0   \n",
              "20   3501608 Menos 20 55   \n",
              "21   3501707 Menos 20 14   \n",
              "22   3501806 Menos 20  0   \n",
              "23   3501905 Menos 20 21   \n",
              "24   3502002 Menos 20  1   \n",
              "25   3502101 Menos 20 26   \n",
              "26   3502200 Menos 20 15   \n",
              "27   3502309 Menos 20  5   \n",
              "28   3502408 Menos 20  2   \n",
              "29   3502507 Menos 20 14   \n",
              "30   3502606 Menos 20  2   \n",
              "⋮    ⋮       ⋮        ⋮    \n",
              "2555 3554953 40 a 49   2   \n",
              "2556 3555000 40 a 49   2   \n",
              "2557 3555109 40 a 49   3   \n",
              "2558 3555208 40 a 49   0   \n",
              "2559 3555307 40 a 49   0   \n",
              "2560 3555356 40 a 49   0   \n",
              "2561 3555406 40 a 49  14   \n",
              "2562 3555505 40 a 49   1   \n",
              "2563 3555604 40 a 49   0   \n",
              "2564 3555703 40 a 49   1   \n",
              "2565 3555802 40 a 49   2   \n",
              "2566 3555901 40 a 49   1   \n",
              "2567 3556008 40 a 49   0   \n",
              "2568 3556107 40 a 49   0   \n",
              "2569 3556206 40 a 49  19   \n",
              "2570 3556305 40 a 49   0   \n",
              "2571 3556354 40 a 49   1   \n",
              "2572 3556404 40 a 49   4   \n",
              "2573 3556453 40 a 49  15   \n",
              "2574 3556503 40 a 49  14   \n",
              "2575 3556602 40 a 49   0   \n",
              "2576 3556701 40 a 49  15   \n",
              "2577 3556800 40 a 49   2   \n",
              "2578 3556909 40 a 49   1   \n",
              "2579 3556958 40 a 49   0   \n",
              "2580 3557006 40 a 49  16   \n",
              "2581 3557105 40 a 49  11   \n",
              "2582 3557154 40 a 49   1   \n",
              "2583 3557204 40 a 49   1   \n",
              "2584 3557303 40 a 49   2   "
            ]
          },
          "metadata": {}
        }
      ],
      "source": [
        "read.csv2('nativivos.csv')"
      ]
    },
    {
      "cell_type": "markdown",
      "source": [
        "2) ARMAZENAR A BASE DE DADOS EM UMA VARIÁVEL\n",
        "<- receber"
      ],
      "metadata": {
        "id": "LwZpOuDNWuVk"
      }
    },
    {
      "cell_type": "code",
      "source": [
        "vivos <- read.csv2 ('nativivos.csv')\n"
      ],
      "metadata": {
        "id": "hrxbZpyHXJll"
      },
      "execution_count": null,
      "outputs": []
    },
    {
      "cell_type": "markdown",
      "source": [
        "3) LIMPEZA DA BASE DE DADOS (RETIRADA DE VALORES FALTANTES)\n",
        "na.omit"
      ],
      "metadata": {
        "id": "a_44BnPOYsTT"
      }
    },
    {
      "cell_type": "code",
      "source": [
        "vivoslimpos <- na.omit (vivos)\n"
      ],
      "metadata": {
        "id": "wHgknu3cY0jf"
      },
      "execution_count": null,
      "outputs": []
    },
    {
      "cell_type": "markdown",
      "source": [
        "4) DIMENSIONAR A BASE DE DADOS (LINHAS E COLUNAS)\n",
        "\n",
        "nrow(linhas)\n",
        "ncol(colunas)"
      ],
      "metadata": {
        "id": "qqclG2BOY4Ak"
      }
    },
    {
      "cell_type": "code",
      "source": [
        "nrow(vivoslimpos)"
      ],
      "metadata": {
        "id": "-uyS8gYRZwWH"
      },
      "execution_count": null,
      "outputs": []
    },
    {
      "cell_type": "code",
      "source": [
        "ncol(vivoslimpos)"
      ],
      "metadata": {
        "id": "VRuiYI2fZ8Ed"
      },
      "execution_count": null,
      "outputs": []
    },
    {
      "cell_type": "markdown",
      "source": [
        "5) PARTICIONAR A BASE DE DADOS (biblioteca dplyr=manipulação na base de dados. Exemplo: filtrar)\n",
        "comando-- filter()\n",
        "= recebe\n",
        "== igual"
      ],
      "metadata": {
        "id": "b9EDb2wabI24"
      }
    },
    {
      "cell_type": "code",
      "source": [
        "library(dplyr)"
      ],
      "metadata": {
        "id": "XnLXsGxmbkF1",
        "colab": {
          "base_uri": "https://localhost:8080/"
        },
        "outputId": "b4366850-0505-40b4-9939-9c81ae87e16b"
      },
      "execution_count": null,
      "outputs": [
        {
          "output_type": "stream",
          "name": "stderr",
          "text": [
            "\n",
            "Attaching package: ‘dplyr’\n",
            "\n",
            "\n",
            "The following objects are masked from ‘package:stats’:\n",
            "\n",
            "    filter, lag\n",
            "\n",
            "\n",
            "The following objects are masked from ‘package:base’:\n",
            "\n",
            "    intersect, setdiff, setequal, union\n",
            "\n",
            "\n"
          ]
        }
      ]
    },
    {
      "cell_type": "markdown",
      "source": [
        "6) O FILTRO POR BARUERI MOSTRA UM NÚMERO DE PARTOS MAIOR NAS FAIXAS ETÁRIAS DE 20 A 29 E 30 A 39.\n",
        "mutate = adicionar colunas"
      ],
      "metadata": {
        "id": "PmY2T-VJiw8C"
      }
    },
    {
      "cell_type": "code",
      "source": [
        "vivosbaru = filter(vivoslimpos, cidade == 3505708)\n",
        "vivosbaru"
      ],
      "metadata": {
        "id": "z9iPMnYtgt34",
        "colab": {
          "base_uri": "https://localhost:8080/",
          "height": 224
        },
        "outputId": "77b6b9a5-9651-46cb-d568-ba1202d676da"
      },
      "execution_count": null,
      "outputs": [
        {
          "output_type": "display_data",
          "data": {
            "text/html": [
              "<table class=\"dataframe\">\n",
              "<caption>A data.frame: 4 × 3</caption>\n",
              "<thead>\n",
              "\t<tr><th scope=col>cidade</th><th scope=col>idade</th><th scope=col>vivos</th></tr>\n",
              "\t<tr><th scope=col>&lt;int&gt;</th><th scope=col>&lt;chr&gt;</th><th scope=col>&lt;int&gt;</th></tr>\n",
              "</thead>\n",
              "<tbody>\n",
              "\t<tr><td>3505708</td><td>Menos 20</td><td>155</td></tr>\n",
              "\t<tr><td>3505708</td><td>20 a 29 </td><td>579</td></tr>\n",
              "\t<tr><td>3505708</td><td>30 a 39 </td><td>508</td></tr>\n",
              "\t<tr><td>3505708</td><td>40 a 49 </td><td> 68</td></tr>\n",
              "</tbody>\n",
              "</table>\n"
            ],
            "text/markdown": "\nA data.frame: 4 × 3\n\n| cidade &lt;int&gt; | idade &lt;chr&gt; | vivos &lt;int&gt; |\n|---|---|---|\n| 3505708 | Menos 20 | 155 |\n| 3505708 | 20 a 29  | 579 |\n| 3505708 | 30 a 39  | 508 |\n| 3505708 | 40 a 49  |  68 |\n\n",
            "text/latex": "A data.frame: 4 × 3\n\\begin{tabular}{lll}\n cidade & idade & vivos\\\\\n <int> & <chr> & <int>\\\\\n\\hline\n\t 3505708 & Menos 20 & 155\\\\\n\t 3505708 & 20 a 29  & 579\\\\\n\t 3505708 & 30 a 39  & 508\\\\\n\t 3505708 & 40 a 49  &  68\\\\\n\\end{tabular}\n",
            "text/plain": [
              "  cidade  idade    vivos\n",
              "1 3505708 Menos 20 155  \n",
              "2 3505708 20 a 29  579  \n",
              "3 3505708 30 a 39  508  \n",
              "4 3505708 40 a 49   68  "
            ]
          },
          "metadata": {}
        }
      ]
    },
    {
      "cell_type": "code",
      "source": [
        "summary(vivosbaru$vivos)\n",
        "sd(vivosbaru$vivos)\n",
        "sd"
      ],
      "metadata": {
        "id": "AahAHWRsuxMf",
        "colab": {
          "base_uri": "https://localhost:8080/",
          "height": 121
        },
        "outputId": "9d853662-a91d-4abf-9f84-d12add5e3586"
      },
      "execution_count": null,
      "outputs": [
        {
          "output_type": "display_data",
          "data": {
            "text/plain": [
              "   Min. 1st Qu.  Median    Mean 3rd Qu.    Max. \n",
              "   68.0   133.2   331.5   327.5   525.8   579.0 "
            ]
          },
          "metadata": {}
        },
        {
          "output_type": "display_data",
          "data": {
            "text/html": [
              "253.593506751783"
            ],
            "text/markdown": "253.593506751783",
            "text/latex": "253.593506751783",
            "text/plain": [
              "[1] 253.5935"
            ]
          },
          "metadata": {}
        },
        {
          "output_type": "display_data",
          "data": {
            "text/html": [
              "<pre class=language-r><code>function (x, na.rm = FALSE) \n",
              "sqrt(var(if (is.vector(x) || is.factor(x)) x else as.double(x), \n",
              "<span style=white-space:pre-wrap>    na.rm = na.rm))</span></code></pre>"
            ],
            "text/markdown": "```r\nfunction (x, na.rm = FALSE) \nsqrt(var(if (is.vector(x) || is.factor(x)) x else as.double(x), \n    na.rm = na.rm))\n```",
            "text/latex": "\\begin{minted}{r}\nfunction (x, na.rm = FALSE) \nsqrt(var(if (is.vector(x) \\textbar{}\\textbar{} is.factor(x)) x else as.double(x), \n    na.rm = na.rm))\n\\end{minted}",
            "text/plain": [
              "function (x, na.rm = FALSE) \n",
              "sqrt(var(if (is.vector(x) || is.factor(x)) x else as.double(x), \n",
              "    na.rm = na.rm))\n",
              "<bytecode: 0x564239fb18f8>\n",
              "<environment: namespace:stats>"
            ]
          },
          "metadata": {}
        }
      ]
    },
    {
      "cell_type": "code",
      "source": [
        "boxplot(vivosbaru$vivos, ylab = 'Nascidos vivos', ylim = c(0, 600), main = 'Total de nascidos vivos em 2021')"
      ],
      "metadata": {
        "id": "xX57ImmU1cpw",
        "colab": {
          "base_uri": "https://localhost:8080/",
          "height": 437
        },
        "outputId": "458689a1-dc02-4000-9be1-ecd6a5b7c8a5"
      },
      "execution_count": null,
      "outputs": [
        {
          "output_type": "display_data",
          "data": {
            "text/plain": [
              "Plot with title “Total de nascidos vivos em 2021”"
            ],
            "image/png": "[encoded data removed]"
          },
          "metadata": {
            "image/png": {
              "width": 420,
              "height": 420
            }
          }
        }
      ]
    },
    {
      "cell_type": "code",
      "source": [
        "soma = sum (vivosbaru$vivos)\n",
        "soma\n",
        "vivosbaruporc = mutate(vivosbaru, porcentagem = (vivos/soma)*100)\n",
        "vivosbaruporc"
      ],
      "metadata": {
        "id": "0HhkSdeIkou9",
        "colab": {
          "base_uri": "https://localhost:8080/",
          "height": 241
        },
        "outputId": "5ad49753-63aa-4722-91ee-f8b06fb23bef"
      },
      "execution_count": null,
      "outputs": [
        {
          "output_type": "display_data",
          "data": {
            "text/html": [
              "1310"
            ],
            "text/markdown": "1310",
            "text/latex": "1310",
            "text/plain": [
              "[1] 1310"
            ]
          },
          "metadata": {}
        },
        {
          "output_type": "display_data",
          "data": {
            "text/html": [
              "<table class=\"dataframe\">\n",
              "<caption>A data.frame: 4 × 4</caption>\n",
              "<thead>\n",
              "\t<tr><th scope=col>cidade</th><th scope=col>idade</th><th scope=col>vivos</th><th scope=col>porcentagem</th></tr>\n",
              "\t<tr><th scope=col>&lt;int&gt;</th><th scope=col>&lt;chr&gt;</th><th scope=col>&lt;int&gt;</th><th scope=col>&lt;dbl&gt;</th></tr>\n",
              "</thead>\n",
              "<tbody>\n",
              "\t<tr><td>3505708</td><td>Menos 20</td><td>155</td><td>11.83206</td></tr>\n",
              "\t<tr><td>3505708</td><td>20 a 29 </td><td>579</td><td>44.19847</td></tr>\n",
              "\t<tr><td>3505708</td><td>30 a 39 </td><td>508</td><td>38.77863</td></tr>\n",
              "\t<tr><td>3505708</td><td>40 a 49 </td><td> 68</td><td> 5.19084</td></tr>\n",
              "</tbody>\n",
              "</table>\n"
            ],
            "text/markdown": "\nA data.frame: 4 × 4\n\n| cidade &lt;int&gt; | idade &lt;chr&gt; | vivos &lt;int&gt; | porcentagem &lt;dbl&gt; |\n|---|---|---|---|\n| 3505708 | Menos 20 | 155 | 11.83206 |\n| 3505708 | 20 a 29  | 579 | 44.19847 |\n| 3505708 | 30 a 39  | 508 | 38.77863 |\n| 3505708 | 40 a 49  |  68 |  5.19084 |\n\n",
            "text/latex": "A data.frame: 4 × 4\n\\begin{tabular}{llll}\n cidade & idade & vivos & porcentagem\\\\\n <int> & <chr> & <int> & <dbl>\\\\\n\\hline\n\t 3505708 & Menos 20 & 155 & 11.83206\\\\\n\t 3505708 & 20 a 29  & 579 & 44.19847\\\\\n\t 3505708 & 30 a 39  & 508 & 38.77863\\\\\n\t 3505708 & 40 a 49  &  68 &  5.19084\\\\\n\\end{tabular}\n",
            "text/plain": [
              "  cidade  idade    vivos porcentagem\n",
              "1 3505708 Menos 20 155   11.83206   \n",
              "2 3505708 20 a 29  579   44.19847   \n",
              "3 3505708 30 a 39  508   38.77863   \n",
              "4 3505708 40 a 49   68    5.19084   "
            ]
          },
          "metadata": {}
        }
      ]
    },
    {
      "cell_type": "code",
      "source": [
        "barplot(vivosbaruporc$porcentagem, ylim = c(0, 50),\n",
        "xlab = 'Idade materna (anos)', ylab = 'Porcentagem dos nascidos vivos', main = 'Nascidos vivos pela idade materna')"
      ],
      "metadata": {
        "id": "JxfvohhCoyS4",
        "colab": {
          "base_uri": "https://localhost:8080/",
          "height": 437
        },
        "outputId": "26043bd2-4e3f-4b7c-c700-09685220c307"
      },
      "execution_count": null,
      "outputs": [
        {
          "output_type": "display_data",
          "data": {
            "text/plain": [
              "Plot with title “Nascidos vivos pela idade materna”"
            ],
            "image/png": "[encoded data removed]"
          },
          "metadata": {
            "image/png": {
              "width": 420,
              "height": 420
            }
          }
        }
      ]
    }
  ]
}